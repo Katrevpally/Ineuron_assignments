{
 "cells": [
  {
   "cell_type": "markdown",
   "id": "08c09961",
   "metadata": {},
   "source": [
    "1. In the below elements which of them are values or an expression? eg:- values can be\n",
    "integer or string and expressions will be mathematical operators.\n",
    "*\n",
    "&#39;hello&#39;\n",
    "-87.8\n",
    "-\n",
    "/\n",
    "+\n",
    "6"
   ]
  },
  {
   "cell_type": "markdown",
   "id": "4c6ec2a8",
   "metadata": {},
   "source": [
    "Ans\n",
    "====\n",
    "*  : expression\n",
    "'hello' : value\n",
    "-87.8 : value\n",
    "- : expression\n",
    "+ : expression\n",
    "6 : value"
   ]
  },
  {
   "cell_type": "markdown",
   "id": "5d45e45b",
   "metadata": {},
   "source": [
    "2. What is the difference between string and variable?"
   ]
  },
  {
   "cell_type": "markdown",
   "id": "8063659a",
   "metadata": {},
   "source": [
    "Ans\n",
    "====\n",
    "String - Collection of characters \n",
    "\n",
    "Variable - containers for storing data values"
   ]
  },
  {
   "cell_type": "markdown",
   "id": "923a9c41",
   "metadata": {},
   "source": [
    "3. Describe three different data types."
   ]
  },
  {
   "cell_type": "markdown",
   "id": "a30dac38",
   "metadata": {},
   "source": [
    "Ans\n",
    "====\n",
    "The three data types are integers, floating-point numbers, and strings."
   ]
  },
  {
   "cell_type": "markdown",
   "id": "9fe37494",
   "metadata": {},
   "source": [
    "4. What is an expression made up of? What do all expressions do?"
   ]
  },
  {
   "cell_type": "markdown",
   "id": "1505deda",
   "metadata": {},
   "source": [
    "Ans\n",
    "====\n",
    "An expression is a combination of values, variables, operators, and calls to functions. Expressions need to be evaluated "
   ]
  },
  {
   "cell_type": "markdown",
   "id": "5b41fb82",
   "metadata": {},
   "source": [
    "5. This assignment statements, like spam = 10. What is the difference between an\n",
    "expression and a statement?"
   ]
  },
  {
   "cell_type": "markdown",
   "id": "0b197658",
   "metadata": {},
   "source": [
    "Expression : Evaluates to a single value.\n",
    "Statement : An instruction that a Python interpreter can execute\n",
    "\n",
    "Expression evaluates to single value where as astatement does not."
   ]
  },
  {
   "cell_type": "markdown",
   "id": "dfba99e4",
   "metadata": {},
   "source": [
    "6. After running the following code, what does the variable bacon contain?\n",
    "bacon = 22\n",
    "bacon + 1"
   ]
  },
  {
   "cell_type": "markdown",
   "id": "7155a0bb",
   "metadata": {},
   "source": [
    "Ans\n",
    "====\n",
    "23"
   ]
  },
  {
   "cell_type": "markdown",
   "id": "ea8a2f69",
   "metadata": {},
   "source": [
    "7. What should the values of the following two terms be?\n",
    "'spam' + 'spamspam'\n",
    "'spam'*3"
   ]
  },
  {
   "cell_type": "markdown",
   "id": "b4702b7f",
   "metadata": {},
   "source": [
    "Ans\n",
    "====\n",
    "The result is same"
   ]
  },
  {
   "cell_type": "markdown",
   "id": "f0531985",
   "metadata": {},
   "source": [
    "8. Why is eggs a valid variable name while 100 is invalid?"
   ]
  },
  {
   "cell_type": "markdown",
   "id": "f0b7a557",
   "metadata": {},
   "source": [
    "Ans\n",
    "====\n",
    "Variable names should not start with number"
   ]
  },
  {
   "cell_type": "markdown",
   "id": "d716e57e",
   "metadata": {},
   "source": [
    "9. What three functions can be used to get the integer, floating-point number, or string\n",
    "version of a value?"
   ]
  },
  {
   "cell_type": "markdown",
   "id": "d84c1b5c",
   "metadata": {},
   "source": [
    "Ans\n",
    "====\n",
    "The int(), float(), and str() functions will evaluate to the integer, floating-point number, and string versions of the value passed to them."
   ]
  },
  {
   "cell_type": "markdown",
   "id": "bd43f5cc",
   "metadata": {},
   "source": [
    "10. Why does this expression cause an error? How can you fix it?\n",
    "\n",
    "'I have eaten ' + 99 + ' burritos.'"
   ]
  },
  {
   "cell_type": "markdown",
   "id": "ab38b166",
   "metadata": {},
   "source": [
    "The expression causes an error because 99 is an integer, and only strings can be concatenated to other strings with the + operator. The correct way is\n",
    "\n",
    "I have eaten ' + str(99) + ' burritos.'."
   ]
  }
 ],
 "metadata": {
  "kernelspec": {
   "display_name": "Python 3 (ipykernel)",
   "language": "python",
   "name": "python3"
  },
  "language_info": {
   "codemirror_mode": {
    "name": "ipython",
    "version": 3
   },
   "file_extension": ".py",
   "mimetype": "text/x-python",
   "name": "python",
   "nbconvert_exporter": "python",
   "pygments_lexer": "ipython3",
   "version": "3.9.7"
  }
 },
 "nbformat": 4,
 "nbformat_minor": 5
}
